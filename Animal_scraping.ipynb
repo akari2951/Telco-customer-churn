{
  "nbformat": 4,
  "nbformat_minor": 0,
  "metadata": {
    "colab": {
      "provenance": [],
      "authorship_tag": "ABX9TyMxUuf0h6y9/EX5VqNeY6vO",
      "include_colab_link": true
    },
    "kernelspec": {
      "name": "python3",
      "display_name": "Python 3"
    },
    "language_info": {
      "name": "python"
    }
  },
  "cells": [
    {
      "cell_type": "markdown",
      "metadata": {
        "id": "view-in-github",
        "colab_type": "text"
      },
      "source": [
        "<a href=\"https://colab.research.google.com/github/akari2951/Telco-customer-churn/blob/main/Animal_scraping.ipynb\" target=\"_parent\"><img src=\"https://colab.research.google.com/assets/colab-badge.svg\" alt=\"Open In Colab\"/></a>"
      ]
    },
    {
      "cell_type": "code",
      "execution_count": 1,
      "metadata": {
        "colab": {
          "base_uri": "https://localhost:8080/"
        },
        "id": "Zj4euLe9TIPX",
        "outputId": "daf721fc-526e-46f2-aef3-acc98e429777"
      },
      "outputs": [
        {
          "output_type": "stream",
          "name": "stdout",
          "text": [
            "Requirement already satisfied: gspread in /usr/local/lib/python3.11/dist-packages (6.2.0)\n",
            "Requirement already satisfied: gspread_dataframe in /usr/local/lib/python3.11/dist-packages (4.0.0)\n",
            "Requirement already satisfied: oauth2client in /usr/local/lib/python3.11/dist-packages (4.1.3)\n",
            "Requirement already satisfied: google-auth>=1.12.0 in /usr/local/lib/python3.11/dist-packages (from gspread) (2.38.0)\n",
            "Requirement already satisfied: google-auth-oauthlib>=0.4.1 in /usr/local/lib/python3.11/dist-packages (from gspread) (1.2.1)\n",
            "Requirement already satisfied: pandas>=0.24.0 in /usr/local/lib/python3.11/dist-packages (from gspread_dataframe) (2.2.2)\n",
            "Requirement already satisfied: six>=1.12.0 in /usr/local/lib/python3.11/dist-packages (from gspread_dataframe) (1.17.0)\n",
            "Requirement already satisfied: httplib2>=0.9.1 in /usr/local/lib/python3.11/dist-packages (from oauth2client) (0.22.0)\n",
            "Requirement already satisfied: pyasn1>=0.1.7 in /usr/local/lib/python3.11/dist-packages (from oauth2client) (0.6.1)\n",
            "Requirement already satisfied: pyasn1-modules>=0.0.5 in /usr/local/lib/python3.11/dist-packages (from oauth2client) (0.4.2)\n",
            "Requirement already satisfied: rsa>=3.1.4 in /usr/local/lib/python3.11/dist-packages (from oauth2client) (4.9.1)\n",
            "Requirement already satisfied: cachetools<6.0,>=2.0.0 in /usr/local/lib/python3.11/dist-packages (from google-auth>=1.12.0->gspread) (5.5.2)\n",
            "Requirement already satisfied: requests-oauthlib>=0.7.0 in /usr/local/lib/python3.11/dist-packages (from google-auth-oauthlib>=0.4.1->gspread) (2.0.0)\n",
            "Requirement already satisfied: pyparsing!=3.0.0,!=3.0.1,!=3.0.2,!=3.0.3,<4,>=2.4.2 in /usr/local/lib/python3.11/dist-packages (from httplib2>=0.9.1->oauth2client) (3.2.3)\n",
            "Requirement already satisfied: numpy>=1.23.2 in /usr/local/lib/python3.11/dist-packages (from pandas>=0.24.0->gspread_dataframe) (2.0.2)\n",
            "Requirement already satisfied: python-dateutil>=2.8.2 in /usr/local/lib/python3.11/dist-packages (from pandas>=0.24.0->gspread_dataframe) (2.8.2)\n",
            "Requirement already satisfied: pytz>=2020.1 in /usr/local/lib/python3.11/dist-packages (from pandas>=0.24.0->gspread_dataframe) (2025.2)\n",
            "Requirement already satisfied: tzdata>=2022.7 in /usr/local/lib/python3.11/dist-packages (from pandas>=0.24.0->gspread_dataframe) (2025.2)\n",
            "Requirement already satisfied: oauthlib>=3.0.0 in /usr/local/lib/python3.11/dist-packages (from requests-oauthlib>=0.7.0->google-auth-oauthlib>=0.4.1->gspread) (3.2.2)\n",
            "Requirement already satisfied: requests>=2.0.0 in /usr/local/lib/python3.11/dist-packages (from requests-oauthlib>=0.7.0->google-auth-oauthlib>=0.4.1->gspread) (2.32.3)\n",
            "Requirement already satisfied: charset-normalizer<4,>=2 in /usr/local/lib/python3.11/dist-packages (from requests>=2.0.0->requests-oauthlib>=0.7.0->google-auth-oauthlib>=0.4.1->gspread) (3.4.1)\n",
            "Requirement already satisfied: idna<4,>=2.5 in /usr/local/lib/python3.11/dist-packages (from requests>=2.0.0->requests-oauthlib>=0.7.0->google-auth-oauthlib>=0.4.1->gspread) (3.10)\n",
            "Requirement already satisfied: urllib3<3,>=1.21.1 in /usr/local/lib/python3.11/dist-packages (from requests>=2.0.0->requests-oauthlib>=0.7.0->google-auth-oauthlib>=0.4.1->gspread) (2.3.0)\n",
            "Requirement already satisfied: certifi>=2017.4.17 in /usr/local/lib/python3.11/dist-packages (from requests>=2.0.0->requests-oauthlib>=0.7.0->google-auth-oauthlib>=0.4.1->gspread) (2025.1.31)\n",
            "Requirement already satisfied: pandas in /usr/local/lib/python3.11/dist-packages (2.2.2)\n",
            "Requirement already satisfied: requests in /usr/local/lib/python3.11/dist-packages (2.32.3)\n",
            "Requirement already satisfied: numpy>=1.23.2 in /usr/local/lib/python3.11/dist-packages (from pandas) (2.0.2)\n",
            "Requirement already satisfied: python-dateutil>=2.8.2 in /usr/local/lib/python3.11/dist-packages (from pandas) (2.8.2)\n",
            "Requirement already satisfied: pytz>=2020.1 in /usr/local/lib/python3.11/dist-packages (from pandas) (2025.2)\n",
            "Requirement already satisfied: tzdata>=2022.7 in /usr/local/lib/python3.11/dist-packages (from pandas) (2025.2)\n",
            "Requirement already satisfied: charset-normalizer<4,>=2 in /usr/local/lib/python3.11/dist-packages (from requests) (3.4.1)\n",
            "Requirement already satisfied: idna<4,>=2.5 in /usr/local/lib/python3.11/dist-packages (from requests) (3.10)\n",
            "Requirement already satisfied: urllib3<3,>=1.21.1 in /usr/local/lib/python3.11/dist-packages (from requests) (2.3.0)\n",
            "Requirement already satisfied: certifi>=2017.4.17 in /usr/local/lib/python3.11/dist-packages (from requests) (2025.1.31)\n",
            "Requirement already satisfied: six>=1.5 in /usr/local/lib/python3.11/dist-packages (from python-dateutil>=2.8.2->pandas) (1.17.0)\n"
          ]
        }
      ],
      "source": [
        "!pip install --upgrade gspread gspread_dataframe oauth2client\n",
        "!pip install pandas requests"
      ]
    },
    {
      "cell_type": "code",
      "source": [
        "# 認証\n",
        "from google.colab import auth\n",
        "auth.authenticate_user()\n",
        "\n",
        "import gspread\n",
        "from google.auth import default\n",
        "import pandas as pd\n",
        "import requests\n",
        "import time\n",
        "import json\n",
        "from gspread_dataframe import set_with_dataframe\n",
        "\n",
        "# Googleスプレッドシートに接続する関数\n",
        "def connect_to_google_sheets():\n",
        "    creds, _ = default()\n",
        "    gc = gspread.authorize(creds)\n",
        "    return gc\n",
        "\n",
        "# 入力データを読み込む関数\n",
        "def read_animal_names(gc, spreadsheet_name, column_name=\"animal_name\"):\n",
        "    worksheet = gc.open(spreadsheet_name).sheet1\n",
        "    data = worksheet.get_all_records()\n",
        "    df = pd.DataFrame(data)\n",
        "\n",
        "    if column_name not in df.columns:\n",
        "        raise ValueError(f\"スプレッドシートに『{column_name}』という列が必要です。\")\n",
        "\n",
        "    return df\n",
        "\n",
        "# サジェスト取得関数\n",
        "def get_google_suggest(keyword):\n",
        "    url = f\"https://suggestqueries.google.com/complete/search?client=firefox&q={keyword}\"\n",
        "    r = requests.get(url)\n",
        "    return r.json()[1] if r.status_code == 200 else []\n",
        "\n",
        "# 動物名ごとにサジェスト取得して結果をまとめる関数\n",
        "def collect_suggestions(df, column_name=\"animal_name\"):\n",
        "    results = []\n",
        "    for name in df[column_name]:\n",
        "        print(f\"取得中: {name}\")\n",
        "        google = get_google_suggest(name)\n",
        "        results.append({\n",
        "            '動物名': name,\n",
        "            'Googleサジェスト': \"\\n\".join(google),\n",
        "        })\n",
        "        time.sleep(1.0)  # 負荷軽減\n",
        "    return pd.DataFrame(results)\n",
        "\n",
        "\n",
        "# 結果を書き込む関数\n",
        "def write_results_to_sheet(gc, spreadsheet_name, result_df, sheet_name=\"結果\"):\n",
        "    spreadsheet = gc.open(spreadsheet_name)\n",
        "\n",
        "    # 既存シートがある場合は削除\n",
        "    try:\n",
        "        existing = spreadsheet.worksheet(sheet_name)\n",
        "        spreadsheet.del_worksheet(existing)\n",
        "    except:\n",
        "        pass\n",
        "\n",
        "    # 新しいシート作成して書き込み\n",
        "    output_sheet = spreadsheet.add_worksheet(title=sheet_name, rows=\"1000\", cols=\"10\")\n",
        "    set_with_dataframe(output_sheet, result_df)\n",
        "\n",
        "\n",
        "# メイン処理\n",
        "def main():\n",
        "    sheet_name = \"Exotic_animal\"\n",
        "    gc = connect_to_google_sheets()\n",
        "    df = read_animal_names(gc, sheet_name)\n",
        "    result_df = collect_suggestions(df)\n",
        "    write_results_to_sheet(gc, sheet_name, result_df)\n",
        "    print(\"サジェストの取得と結果シートへの書き込みが完了しました！\")\n",
        "\n",
        "if __name__ == \"__main__\":\n",
        "  main()"
      ],
      "metadata": {
        "colab": {
          "base_uri": "https://localhost:8080/"
        },
        "id": "QRbWfrKlTJiO",
        "outputId": "44c477f7-c4aa-4d0f-b48f-a0cb3c2331de"
      },
      "execution_count": 3,
      "outputs": [
        {
          "output_type": "stream",
          "name": "stdout",
          "text": [
            "取得中: チンチラ\n",
            "取得中: フクロモモンガ\n",
            "取得中: シマリス\n",
            "取得中: フェレット\n",
            "取得中: モルモット\n",
            "取得中: ウサギ\n",
            "取得中: ゴールデンハムスター\n",
            "取得中: リスザル\n",
            "取得中: セキセイインコ\n",
            "取得中: デグー\n",
            "取得中: フェネック\n",
            "取得中: ショウガラゴ\n",
            "取得中: オカメインコ\n",
            "取得中: ハリネズミ\n",
            "取得中: ヒョウモントカゲモドキ\n",
            "サジェストの取得と結果シートへの書き込みが完了しました！\n"
          ]
        }
      ]
    }
  ]
}